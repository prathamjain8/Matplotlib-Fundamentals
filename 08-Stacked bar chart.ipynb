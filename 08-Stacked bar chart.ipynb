{
 "cells": [
  {
   "cell_type": "code",
   "execution_count": 1,
   "id": "2725ee82",
   "metadata": {},
   "outputs": [
    {
     "name": "stderr",
     "output_type": "stream",
     "text": [
      "C:\\Users\\hp\\AppData\\Roaming\\Python\\Python311\\site-packages\\pandas\\core\\arrays\\masked.py:60: UserWarning: Pandas requires version '1.3.6' or newer of 'bottleneck' (version '1.3.5' currently installed).\n",
      "  from pandas.core import (\n"
     ]
    }
   ],
   "source": [
    "import pandas as pd\n",
    "import matplotlib.pyplot as plt"
   ]
  },
  {
   "cell_type": "code",
   "execution_count": 2,
   "id": "7981ff86",
   "metadata": {},
   "outputs": [],
   "source": [
    "housing_raw = pd.read_csv(\"D:/STUDIES/Data Visualization/Data/housing_data.csv\", \n",
    "                          parse_dates=['period_begin', 'period_end'], \n",
    "                          dtype={'total_homes_sold':'Int32', 'region_name': 'category'})"
   ]
  },
  {
   "cell_type": "code",
   "execution_count": 3,
   "id": "aa0b72c9",
   "metadata": {},
   "outputs": [
    {
     "data": {
      "text/html": [
       "<div>\n",
       "<style scoped>\n",
       "    .dataframe tbody tr th:only-of-type {\n",
       "        vertical-align: middle;\n",
       "    }\n",
       "\n",
       "    .dataframe tbody tr th {\n",
       "        vertical-align: top;\n",
       "    }\n",
       "\n",
       "    .dataframe thead th {\n",
       "        text-align: right;\n",
       "    }\n",
       "</style>\n",
       "<table border=\"1\" class=\"dataframe\">\n",
       "  <thead>\n",
       "    <tr style=\"text-align: right;\">\n",
       "      <th></th>\n",
       "      <th>region_name</th>\n",
       "      <th>period_begin</th>\n",
       "      <th>period_end</th>\n",
       "      <th>total_homes_sold</th>\n",
       "      <th>inventory</th>\n",
       "      <th>active_listings</th>\n",
       "      <th>age_of_inventory</th>\n",
       "      <th>median_active_list_price</th>\n",
       "      <th>months_of_supply</th>\n",
       "    </tr>\n",
       "  </thead>\n",
       "  <tbody>\n",
       "    <tr>\n",
       "      <th>6</th>\n",
       "      <td>Sacramento County, CA</td>\n",
       "      <td>2020-06-22</td>\n",
       "      <td>2020-09-13</td>\n",
       "      <td>5107</td>\n",
       "      <td>1729.0</td>\n",
       "      <td>2206.0</td>\n",
       "      <td>27.5</td>\n",
       "      <td>445540.9</td>\n",
       "      <td>5.235794</td>\n",
       "    </tr>\n",
       "    <tr>\n",
       "      <th>19</th>\n",
       "      <td>Garfield County, WA</td>\n",
       "      <td>2019-06-17</td>\n",
       "      <td>2019-09-08</td>\n",
       "      <td>7</td>\n",
       "      <td>9.0</td>\n",
       "      <td>10.0</td>\n",
       "      <td>52.7</td>\n",
       "      <td>152666.6</td>\n",
       "      <td>9.333333</td>\n",
       "    </tr>\n",
       "    <tr>\n",
       "      <th>26</th>\n",
       "      <td>Gilliam County, OR</td>\n",
       "      <td>2018-06-18</td>\n",
       "      <td>2018-09-09</td>\n",
       "      <td>3</td>\n",
       "      <td>9.0</td>\n",
       "      <td>9.0</td>\n",
       "      <td>95.6</td>\n",
       "      <td>143037.5</td>\n",
       "      <td>9.000000</td>\n",
       "    </tr>\n",
       "    <tr>\n",
       "      <th>99</th>\n",
       "      <td>Klickitat County, WA</td>\n",
       "      <td>2017-04-17</td>\n",
       "      <td>2017-07-09</td>\n",
       "      <td>48</td>\n",
       "      <td>53.0</td>\n",
       "      <td>58.0</td>\n",
       "      <td>87.2</td>\n",
       "      <td>326237.5</td>\n",
       "      <td>16.193434</td>\n",
       "    </tr>\n",
       "    <tr>\n",
       "      <th>124</th>\n",
       "      <td>Jefferson County, WA</td>\n",
       "      <td>2017-02-06</td>\n",
       "      <td>2017-04-30</td>\n",
       "      <td>138</td>\n",
       "      <td>177.0</td>\n",
       "      <td>190.0</td>\n",
       "      <td>127.8</td>\n",
       "      <td>404637.5</td>\n",
       "      <td>22.486617</td>\n",
       "    </tr>\n",
       "  </tbody>\n",
       "</table>\n",
       "</div>"
      ],
      "text/plain": [
       "               region_name period_begin period_end  total_homes_sold  \\\n",
       "6    Sacramento County, CA   2020-06-22 2020-09-13              5107   \n",
       "19     Garfield County, WA   2019-06-17 2019-09-08                 7   \n",
       "26      Gilliam County, OR   2018-06-18 2018-09-09                 3   \n",
       "99    Klickitat County, WA   2017-04-17 2017-07-09                48   \n",
       "124   Jefferson County, WA   2017-02-06 2017-04-30               138   \n",
       "\n",
       "     inventory  active_listings  age_of_inventory  median_active_list_price  \\\n",
       "6       1729.0           2206.0              27.5                  445540.9   \n",
       "19         9.0             10.0              52.7                  152666.6   \n",
       "26         9.0              9.0              95.6                  143037.5   \n",
       "99        53.0             58.0              87.2                  326237.5   \n",
       "124      177.0            190.0             127.8                  404637.5   \n",
       "\n",
       "     months_of_supply  \n",
       "6            5.235794  \n",
       "19           9.333333  \n",
       "26           9.000000  \n",
       "99          16.193434  \n",
       "124         22.486617  "
      ]
     },
     "execution_count": 3,
     "metadata": {},
     "output_type": "execute_result"
    }
   ],
   "source": [
    "ca_or = housing_raw.loc[housing_raw[\"region_name\"].str[-2:].isin([\"CA\", \"OR\", \"WA\"])]\n",
    "ca_or.head()"
   ]
  },
  {
   "cell_type": "code",
   "execution_count": 4,
   "id": "8d609bca",
   "metadata": {},
   "outputs": [],
   "source": [
    "ca_or = ca_or.assign(price_range = pd.cut(ca_or.loc[:,\"median_active_list_price\"], [0,400000,600000, 2000000], labels=[\"0-400K\", \"400-600K\", \"600K+\"]),\n",
    "            state = ca_or[\"region_name\"].str[-2:])"
   ]
  },
  {
   "cell_type": "code",
   "execution_count": 5,
   "id": "237b38ed",
   "metadata": {},
   "outputs": [
    {
     "data": {
      "text/html": [
       "<div>\n",
       "<style scoped>\n",
       "    .dataframe tbody tr th:only-of-type {\n",
       "        vertical-align: middle;\n",
       "    }\n",
       "\n",
       "    .dataframe tbody tr th {\n",
       "        vertical-align: top;\n",
       "    }\n",
       "\n",
       "    .dataframe thead th {\n",
       "        text-align: right;\n",
       "    }\n",
       "</style>\n",
       "<table border=\"1\" class=\"dataframe\">\n",
       "  <thead>\n",
       "    <tr style=\"text-align: right;\">\n",
       "      <th></th>\n",
       "      <th>region_name</th>\n",
       "      <th>period_begin</th>\n",
       "      <th>period_end</th>\n",
       "      <th>total_homes_sold</th>\n",
       "      <th>inventory</th>\n",
       "      <th>active_listings</th>\n",
       "      <th>age_of_inventory</th>\n",
       "      <th>median_active_list_price</th>\n",
       "      <th>months_of_supply</th>\n",
       "      <th>price_range</th>\n",
       "      <th>state</th>\n",
       "    </tr>\n",
       "  </thead>\n",
       "  <tbody>\n",
       "    <tr>\n",
       "      <th>6</th>\n",
       "      <td>Sacramento County, CA</td>\n",
       "      <td>2020-06-22</td>\n",
       "      <td>2020-09-13</td>\n",
       "      <td>5107</td>\n",
       "      <td>1729.0</td>\n",
       "      <td>2206.0</td>\n",
       "      <td>27.5</td>\n",
       "      <td>445540.9</td>\n",
       "      <td>5.235794</td>\n",
       "      <td>400-600K</td>\n",
       "      <td>CA</td>\n",
       "    </tr>\n",
       "    <tr>\n",
       "      <th>19</th>\n",
       "      <td>Garfield County, WA</td>\n",
       "      <td>2019-06-17</td>\n",
       "      <td>2019-09-08</td>\n",
       "      <td>7</td>\n",
       "      <td>9.0</td>\n",
       "      <td>10.0</td>\n",
       "      <td>52.7</td>\n",
       "      <td>152666.6</td>\n",
       "      <td>9.333333</td>\n",
       "      <td>0-400K</td>\n",
       "      <td>WA</td>\n",
       "    </tr>\n",
       "    <tr>\n",
       "      <th>26</th>\n",
       "      <td>Gilliam County, OR</td>\n",
       "      <td>2018-06-18</td>\n",
       "      <td>2018-09-09</td>\n",
       "      <td>3</td>\n",
       "      <td>9.0</td>\n",
       "      <td>9.0</td>\n",
       "      <td>95.6</td>\n",
       "      <td>143037.5</td>\n",
       "      <td>9.000000</td>\n",
       "      <td>0-400K</td>\n",
       "      <td>OR</td>\n",
       "    </tr>\n",
       "    <tr>\n",
       "      <th>99</th>\n",
       "      <td>Klickitat County, WA</td>\n",
       "      <td>2017-04-17</td>\n",
       "      <td>2017-07-09</td>\n",
       "      <td>48</td>\n",
       "      <td>53.0</td>\n",
       "      <td>58.0</td>\n",
       "      <td>87.2</td>\n",
       "      <td>326237.5</td>\n",
       "      <td>16.193434</td>\n",
       "      <td>0-400K</td>\n",
       "      <td>WA</td>\n",
       "    </tr>\n",
       "    <tr>\n",
       "      <th>124</th>\n",
       "      <td>Jefferson County, WA</td>\n",
       "      <td>2017-02-06</td>\n",
       "      <td>2017-04-30</td>\n",
       "      <td>138</td>\n",
       "      <td>177.0</td>\n",
       "      <td>190.0</td>\n",
       "      <td>127.8</td>\n",
       "      <td>404637.5</td>\n",
       "      <td>22.486617</td>\n",
       "      <td>400-600K</td>\n",
       "      <td>WA</td>\n",
       "    </tr>\n",
       "  </tbody>\n",
       "</table>\n",
       "</div>"
      ],
      "text/plain": [
       "               region_name period_begin period_end  total_homes_sold  \\\n",
       "6    Sacramento County, CA   2020-06-22 2020-09-13              5107   \n",
       "19     Garfield County, WA   2019-06-17 2019-09-08                 7   \n",
       "26      Gilliam County, OR   2018-06-18 2018-09-09                 3   \n",
       "99    Klickitat County, WA   2017-04-17 2017-07-09                48   \n",
       "124   Jefferson County, WA   2017-02-06 2017-04-30               138   \n",
       "\n",
       "     inventory  active_listings  age_of_inventory  median_active_list_price  \\\n",
       "6       1729.0           2206.0              27.5                  445540.9   \n",
       "19         9.0             10.0              52.7                  152666.6   \n",
       "26         9.0              9.0              95.6                  143037.5   \n",
       "99        53.0             58.0              87.2                  326237.5   \n",
       "124      177.0            190.0             127.8                  404637.5   \n",
       "\n",
       "     months_of_supply price_range state  \n",
       "6            5.235794    400-600K    CA  \n",
       "19           9.333333      0-400K    WA  \n",
       "26           9.000000      0-400K    OR  \n",
       "99          16.193434      0-400K    WA  \n",
       "124         22.486617    400-600K    WA  "
      ]
     },
     "execution_count": 5,
     "metadata": {},
     "output_type": "execute_result"
    }
   ],
   "source": [
    "ca_or.head()"
   ]
  },
  {
   "cell_type": "code",
   "execution_count": 6,
   "id": "0cad56a6",
   "metadata": {},
   "outputs": [
    {
     "name": "stderr",
     "output_type": "stream",
     "text": [
      "C:\\Users\\hp\\AppData\\Local\\Temp\\ipykernel_47800\\406165694.py:1: FutureWarning: The behavior of 'isin' with dtype=datetime64[ns] and castable values (e.g. strings) is deprecated. In a future version, these will not be considered matching by isin. Explicitly cast to the appropriate dtype before calling isin instead.\n",
      "  ca_or = ca_or.query(\"period_end == '2021-08-01'\").pivot_table(index = \"price_range\", columns = \"state\", values = \"inventory\", aggfunc=\"sum\")\n",
      "C:\\Users\\hp\\AppData\\Local\\Temp\\ipykernel_47800\\406165694.py:1: FutureWarning: The default value of observed=False is deprecated and will change to observed=True in a future version of pandas. Specify observed=False to silence this warning and retain the current behavior\n",
      "  ca_or = ca_or.query(\"period_end == '2021-08-01'\").pivot_table(index = \"price_range\", columns = \"state\", values = \"inventory\", aggfunc=\"sum\")\n"
     ]
    }
   ],
   "source": [
    "ca_or = ca_or.query(\"period_end == '2021-08-01'\").pivot_table(index = \"price_range\", columns = \"state\", values = \"inventory\", aggfunc=\"sum\")"
   ]
  },
  {
   "cell_type": "code",
   "execution_count": 7,
   "id": "68c40d19",
   "metadata": {},
   "outputs": [
    {
     "data": {
      "text/html": [
       "<div>\n",
       "<style scoped>\n",
       "    .dataframe tbody tr th:only-of-type {\n",
       "        vertical-align: middle;\n",
       "    }\n",
       "\n",
       "    .dataframe tbody tr th {\n",
       "        vertical-align: top;\n",
       "    }\n",
       "\n",
       "    .dataframe thead th {\n",
       "        text-align: right;\n",
       "    }\n",
       "</style>\n",
       "<table border=\"1\" class=\"dataframe\">\n",
       "  <thead>\n",
       "    <tr style=\"text-align: right;\">\n",
       "      <th>state</th>\n",
       "      <th>CA</th>\n",
       "      <th>OR</th>\n",
       "      <th>WA</th>\n",
       "    </tr>\n",
       "    <tr>\n",
       "      <th>price_range</th>\n",
       "      <th></th>\n",
       "      <th></th>\n",
       "      <th></th>\n",
       "    </tr>\n",
       "  </thead>\n",
       "  <tbody>\n",
       "    <tr>\n",
       "      <th>0-400K</th>\n",
       "      <td>4267.0</td>\n",
       "      <td>1074.0</td>\n",
       "      <td>2143.0</td>\n",
       "    </tr>\n",
       "    <tr>\n",
       "      <th>400-600K</th>\n",
       "      <td>13877.0</td>\n",
       "      <td>4711.0</td>\n",
       "      <td>4858.0</td>\n",
       "    </tr>\n",
       "    <tr>\n",
       "      <th>600K+</th>\n",
       "      <td>35147.0</td>\n",
       "      <td>1229.0</td>\n",
       "      <td>3649.0</td>\n",
       "    </tr>\n",
       "  </tbody>\n",
       "</table>\n",
       "</div>"
      ],
      "text/plain": [
       "state             CA      OR      WA\n",
       "price_range                         \n",
       "0-400K        4267.0  1074.0  2143.0\n",
       "400-600K     13877.0  4711.0  4858.0\n",
       "600K+        35147.0  1229.0  3649.0"
      ]
     },
     "execution_count": 7,
     "metadata": {},
     "output_type": "execute_result"
    }
   ],
   "source": [
    "ca_or.head()"
   ]
  },
  {
   "cell_type": "code",
   "execution_count": 8,
   "id": "67e4fbfb",
   "metadata": {},
   "outputs": [
    {
     "data": {
      "text/plain": [
       "<matplotlib.legend.Legend at 0x16a84bcce10>"
      ]
     },
     "execution_count": 8,
     "metadata": {},
     "output_type": "execute_result"
    },
    {
     "data": {
      "image/png": "[encoded data removed]",
      "text/plain": [
       "<Figure size 640x480 with 1 Axes>"
      ]
     },
     "metadata": {},
     "output_type": "display_data"
    }
   ],
   "source": [
    "fig, ax = plt.subplots()\n",
    "\n",
    "ax.bar(ca_or.index, ca_or[\"CA\"], label=\"California\")\n",
    "\n",
    "ax.bar(ca_or.index, ca_or[\"OR\"], label=\"Oregon\", bottom = ca_or[\"CA\"])\n",
    "\n",
    "ax.bar(ca_or.index, ca_or[\"WA\"], label=\"Washington\", bottom=ca_or[\"CA\"]+ca_or[\"OR\"])\n",
    "\n",
    "ax.set_title(\"Unit sales of Homes in CA and OR\")\n",
    "ax.set_ylabel(\"Homes sold\")\n",
    "\n",
    "ax.legend()"
   ]
  },
  {
   "cell_type": "code",
   "execution_count": null,
   "id": "03da7aac",
   "metadata": {},
   "outputs": [],
   "source": []
  }
 ],
 "metadata": {
  "kernelspec": {
   "display_name": "Python 3 (ipykernel)",
   "language": "python",
   "name": "python3"
  },
  "language_info": {
   "codemirror_mode": {
    "name": "ipython",
    "version": 3
   },
   "file_extension": ".py",
   "mimetype": "text/x-python",
   "name": "python",
   "nbconvert_exporter": "python",
   "pygments_lexer": "ipython3",
   "version": "3.11.5"
  }
 },
 "nbformat": 4,
 "nbformat_minor": 5
}
