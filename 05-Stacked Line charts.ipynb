{
 "cells": [
  {
   "cell_type": "code",
   "execution_count": 1,
   "id": "81957b9c",
   "metadata": {},
   "outputs": [
    {
     "name": "stderr",
     "output_type": "stream",
     "text": [
      "C:\\Users\\hp\\AppData\\Roaming\\Python\\Python311\\site-packages\\pandas\\core\\arrays\\masked.py:60: UserWarning: Pandas requires version '1.3.6' or newer of 'bottleneck' (version '1.3.5' currently installed).\n",
      "  from pandas.core import (\n"
     ]
    }
   ],
   "source": [
    "import pandas as pd\n",
    "import numpy as np\n",
    "import matplotlib.pyplot as plt"
   ]
  },
  {
   "cell_type": "code",
   "execution_count": 2,
   "id": "7c3a32df",
   "metadata": {},
   "outputs": [],
   "source": [
    "housing_raw = pd.read_csv(\"D:/STUDIES/Data Visualization/Data/housing_data.csv\", \n",
    "                          parse_dates=['period_begin', 'period_end'], \n",
    "                          dtype={'total_homes_sold':'Int32', 'region_name': 'category'})"
   ]
  },
  {
   "cell_type": "code",
   "execution_count": 3,
   "id": "7431e324",
   "metadata": {},
   "outputs": [],
   "source": [
    "ca_housing = housing_raw.loc[housing_raw['region_name'].str.contains(\"CA\")]\\\n",
    ".assign(region_name = housing_raw['region_name'].str[0:-11])"
   ]
  },
  {
   "cell_type": "code",
   "execution_count": 4,
   "id": "fa6b033d",
   "metadata": {},
   "outputs": [
    {
     "data": {
      "text/html": [
       "<div>\n",
       "<style scoped>\n",
       "    .dataframe tbody tr th:only-of-type {\n",
       "        vertical-align: middle;\n",
       "    }\n",
       "\n",
       "    .dataframe tbody tr th {\n",
       "        vertical-align: top;\n",
       "    }\n",
       "\n",
       "    .dataframe thead th {\n",
       "        text-align: right;\n",
       "    }\n",
       "</style>\n",
       "<table border=\"1\" class=\"dataframe\">\n",
       "  <thead>\n",
       "    <tr style=\"text-align: right;\">\n",
       "      <th></th>\n",
       "      <th>region_name</th>\n",
       "      <th>period_begin</th>\n",
       "      <th>period_end</th>\n",
       "      <th>total_homes_sold</th>\n",
       "      <th>inventory</th>\n",
       "      <th>active_listings</th>\n",
       "      <th>age_of_inventory</th>\n",
       "      <th>median_active_list_price</th>\n",
       "      <th>months_of_supply</th>\n",
       "    </tr>\n",
       "  </thead>\n",
       "  <tbody>\n",
       "    <tr>\n",
       "      <th>6</th>\n",
       "      <td>Sacramento</td>\n",
       "      <td>2020-06-22</td>\n",
       "      <td>2020-09-13</td>\n",
       "      <td>5107</td>\n",
       "      <td>1729.0</td>\n",
       "      <td>2206.0</td>\n",
       "      <td>27.5</td>\n",
       "      <td>445540.9</td>\n",
       "      <td>5.235794</td>\n",
       "    </tr>\n",
       "    <tr>\n",
       "      <th>164</th>\n",
       "      <td>Nevada</td>\n",
       "      <td>2018-09-03</td>\n",
       "      <td>2018-11-25</td>\n",
       "      <td>529</td>\n",
       "      <td>480.0</td>\n",
       "      <td>517.0</td>\n",
       "      <td>71.4</td>\n",
       "      <td>557508.3</td>\n",
       "      <td>12.165607</td>\n",
       "    </tr>\n",
       "    <tr>\n",
       "      <th>252</th>\n",
       "      <td>Stanislaus</td>\n",
       "      <td>2017-06-05</td>\n",
       "      <td>2017-08-27</td>\n",
       "      <td>1572</td>\n",
       "      <td>1042.0</td>\n",
       "      <td>1193.0</td>\n",
       "      <td>38.8</td>\n",
       "      <td>320660.0</td>\n",
       "      <td>9.212632</td>\n",
       "    </tr>\n",
       "    <tr>\n",
       "      <th>293</th>\n",
       "      <td>Tehama</td>\n",
       "      <td>2020-01-20</td>\n",
       "      <td>2020-04-12</td>\n",
       "      <td>102</td>\n",
       "      <td>241.0</td>\n",
       "      <td>252.0</td>\n",
       "      <td>99.2</td>\n",
       "      <td>297979.1</td>\n",
       "      <td>31.530228</td>\n",
       "    </tr>\n",
       "    <tr>\n",
       "      <th>304</th>\n",
       "      <td>Stanislaus</td>\n",
       "      <td>2017-11-13</td>\n",
       "      <td>2018-02-04</td>\n",
       "      <td>1200</td>\n",
       "      <td>797.0</td>\n",
       "      <td>907.0</td>\n",
       "      <td>56.5</td>\n",
       "      <td>330049.9</td>\n",
       "      <td>9.744362</td>\n",
       "    </tr>\n",
       "  </tbody>\n",
       "</table>\n",
       "</div>"
      ],
      "text/plain": [
       "    region_name period_begin period_end  total_homes_sold  inventory  \\\n",
       "6    Sacramento   2020-06-22 2020-09-13              5107     1729.0   \n",
       "164      Nevada   2018-09-03 2018-11-25               529      480.0   \n",
       "252  Stanislaus   2017-06-05 2017-08-27              1572     1042.0   \n",
       "293      Tehama   2020-01-20 2020-04-12               102      241.0   \n",
       "304  Stanislaus   2017-11-13 2018-02-04              1200      797.0   \n",
       "\n",
       "     active_listings  age_of_inventory  median_active_list_price  \\\n",
       "6             2206.0              27.5                  445540.9   \n",
       "164            517.0              71.4                  557508.3   \n",
       "252           1193.0              38.8                  320660.0   \n",
       "293            252.0              99.2                  297979.1   \n",
       "304            907.0              56.5                  330049.9   \n",
       "\n",
       "     months_of_supply  \n",
       "6            5.235794  \n",
       "164         12.165607  \n",
       "252          9.212632  \n",
       "293         31.530228  \n",
       "304          9.744362  "
      ]
     },
     "execution_count": 4,
     "metadata": {},
     "output_type": "execute_result"
    }
   ],
   "source": [
    "ca_housing.head()"
   ]
  },
  {
   "cell_type": "code",
   "execution_count": 15,
   "id": "f9a5e71c",
   "metadata": {},
   "outputs": [],
   "source": [
    "ca_housing_pivot = ca_housing.pivot_table(index=\"period_begin\", columns=\"region_name\", \n",
    "                                          values=\"inventory\").assign(CA_average = lambda x : x.mean(axis=1)).loc[:,[\"San Francisco\", \"Los Angeles\", \"San Diego\", \"CA_average\"]]"
   ]
  },
  {
   "cell_type": "code",
   "execution_count": 16,
   "id": "a327f724",
   "metadata": {},
   "outputs": [
    {
     "data": {
      "text/html": [
       "<div>\n",
       "<style scoped>\n",
       "    .dataframe tbody tr th:only-of-type {\n",
       "        vertical-align: middle;\n",
       "    }\n",
       "\n",
       "    .dataframe tbody tr th {\n",
       "        vertical-align: top;\n",
       "    }\n",
       "\n",
       "    .dataframe thead th {\n",
       "        text-align: right;\n",
       "    }\n",
       "</style>\n",
       "<table border=\"1\" class=\"dataframe\">\n",
       "  <thead>\n",
       "    <tr style=\"text-align: right;\">\n",
       "      <th>region_name</th>\n",
       "      <th>San Francisco</th>\n",
       "      <th>Los Angeles</th>\n",
       "      <th>San Diego</th>\n",
       "      <th>CA_average</th>\n",
       "    </tr>\n",
       "    <tr>\n",
       "      <th>period_begin</th>\n",
       "      <th></th>\n",
       "      <th></th>\n",
       "      <th></th>\n",
       "      <th></th>\n",
       "    </tr>\n",
       "  </thead>\n",
       "  <tbody>\n",
       "    <tr>\n",
       "      <th>2017-01-02</th>\n",
       "      <td>626.0</td>\n",
       "      <td>15492.0</td>\n",
       "      <td>5468.0</td>\n",
       "      <td>1259.851852</td>\n",
       "    </tr>\n",
       "    <tr>\n",
       "      <th>2017-01-09</th>\n",
       "      <td>652.0</td>\n",
       "      <td>15605.0</td>\n",
       "      <td>5493.0</td>\n",
       "      <td>1268.888889</td>\n",
       "    </tr>\n",
       "    <tr>\n",
       "      <th>2017-01-16</th>\n",
       "      <td>673.0</td>\n",
       "      <td>15724.0</td>\n",
       "      <td>5520.0</td>\n",
       "      <td>1278.481481</td>\n",
       "    </tr>\n",
       "    <tr>\n",
       "      <th>2017-01-23</th>\n",
       "      <td>685.0</td>\n",
       "      <td>15834.0</td>\n",
       "      <td>5546.0</td>\n",
       "      <td>1287.129630</td>\n",
       "    </tr>\n",
       "    <tr>\n",
       "      <th>2017-01-30</th>\n",
       "      <td>697.0</td>\n",
       "      <td>15972.0</td>\n",
       "      <td>5581.0</td>\n",
       "      <td>1298.148148</td>\n",
       "    </tr>\n",
       "  </tbody>\n",
       "</table>\n",
       "</div>"
      ],
      "text/plain": [
       "region_name   San Francisco  Los Angeles  San Diego   CA_average\n",
       "period_begin                                                    \n",
       "2017-01-02            626.0      15492.0     5468.0  1259.851852\n",
       "2017-01-09            652.0      15605.0     5493.0  1268.888889\n",
       "2017-01-16            673.0      15724.0     5520.0  1278.481481\n",
       "2017-01-23            685.0      15834.0     5546.0  1287.129630\n",
       "2017-01-30            697.0      15972.0     5581.0  1298.148148"
      ]
     },
     "execution_count": 16,
     "metadata": {},
     "output_type": "execute_result"
    }
   ],
   "source": [
    "ca_housing_pivot.head()"
   ]
  },
  {
   "cell_type": "code",
   "execution_count": 20,
   "id": "62568e30",
   "metadata": {},
   "outputs": [
    {
     "data": {
      "text/plain": [
       "<matplotlib.legend.Legend at 0x1bf0d72df90>"
      ]
     },
     "execution_count": 20,
     "metadata": {},
     "output_type": "execute_result"
    },
    {
     "data": {
      "image/png": "[encoded data removed]",
      "text/plain": [
       "<Figure size 640x480 with 1 Axes>"
      ]
     },
     "metadata": {},
     "output_type": "display_data"
    }
   ],
   "source": [
    "fig, ax = plt.subplots()\n",
    "\n",
    "labels = [\"LA\", \"SD\", \"SF\"]\n",
    "colors = [\"grey\", \"green\", \"pink\"]\n",
    "\n",
    "ax.stackplot(\n",
    "    ca_housing_pivot.index, \n",
    "    ca_housing_pivot[\"Los Angeles\"],\n",
    "    ca_housing_pivot[\"San Diego\"],\n",
    "    ca_housing_pivot[\"San Francisco\"],\n",
    "    labels = labels,\n",
    "    colors=colors\n",
    ")\n",
    "\n",
    "ax.legend()"
   ]
  },
  {
   "cell_type": "code",
   "execution_count": null,
   "id": "9138d736",
   "metadata": {},
   "outputs": [],
   "source": []
  }
 ],
 "metadata": {
  "kernelspec": {
   "display_name": "Python 3 (ipykernel)",
   "language": "python",
   "name": "python3"
  },
  "language_info": {
   "codemirror_mode": {
    "name": "ipython",
    "version": 3
   },
   "file_extension": ".py",
   "mimetype": "text/x-python",
   "name": "python",
   "nbconvert_exporter": "python",
   "pygments_lexer": "ipython3",
   "version": "3.11.5"
  }
 },
 "nbformat": 4,
 "nbformat_minor": 5
}
